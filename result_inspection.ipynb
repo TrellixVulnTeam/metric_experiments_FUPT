{
 "cells": [
  {
   "cell_type": "markdown",
   "metadata": {},
   "source": [
    "# Import"
   ]
  },
  {
   "cell_type": "code",
   "execution_count": 1,
   "metadata": {},
   "outputs": [],
   "source": [
    "import tensorflow as tf\n",
    "import tensorboard as tb\n",
    "tf.io.gfile = tb.compat.tensorflow_stub.io.gfile\n",
    "from torch.utils.tensorboard import SummaryWriter"
   ]
  },
  {
   "cell_type": "code",
   "execution_count": 2,
   "metadata": {
    "colab": {
     "base_uri": "https://localhost:8080/",
     "height": 35
    },
    "colab_type": "code",
    "id": "567qnmi7wk_M",
    "outputId": "ed95bee0-f2de-4ef2-c920-6a5805c1e97d"
   },
   "outputs": [],
   "source": [
    "%matplotlib inline\n",
    "from tqdm import trange\n",
    "from pytorch_metric_learning import losses, miners, samplers, trainers, testers\n",
    "from pytorch_metric_learning.utils import common_functions\n",
    "from pytorch_metric_learning.utils.accuracy_calculator import AccuracyCalculator\n",
    "from pytorch_metric_learning.utils.inference import MatchFinder, InferenceModel\n",
    "from pytorch_metric_learning.utils import loss_and_miner_utils as lmu\n",
    "import pytorch_metric_learning.utils.logging_presets as logging_presets\n",
    "import numpy as np\n",
    "import torchvision\n",
    "from torchvision import datasets, transforms\n",
    "import torch\n",
    "import torch.nn as nn\n",
    "import torch.nn.functional as F\n",
    "from PIL import Image\n",
    "import logging\n",
    "import matplotlib.pyplot as plt\n",
    "import umap\n",
    "from cycler import cycler\n",
    "import record_keeper\n",
    "import pytorch_metric_learning\n",
    "import os\n",
    "from torchvision.datasets.folder import default_loader\n",
    "import datetime\n",
    "\n",
    "import itertools\n",
    "from scipy.spatial.distance import pdist, cdist\n",
    "from tqdm.notebook import tqdm\n",
    "import pandas as pd\n",
    "import seaborn as sns\n",
    "\n",
    "from matplotlib.offsetbox import OffsetImage, AnnotationBbox\n",
    "\n",
    "logging.getLogger().setLevel(logging.INFO)"
   ]
  },
  {
   "cell_type": "code",
   "execution_count": 3,
   "metadata": {},
   "outputs": [],
   "source": [
    "%load_ext autoreload"
   ]
  },
  {
   "cell_type": "code",
   "execution_count": 4,
   "metadata": {},
   "outputs": [],
   "source": [
    "%autoreload 2"
   ]
  },
  {
   "cell_type": "code",
   "execution_count": 5,
   "metadata": {},
   "outputs": [],
   "source": [
    "from src import params\n",
    "from src.dataset import (get_transforms, get_cub_2011, get_cub_2011_class_disjoint, get_inverse_transform)\n",
    "from src.models import (get_embedder, get_trunk)\n",
    "from src.training import (get_optimizers, get_loss, get_miner, get_sampler, get_testing_hooks)\n",
    "from src.utils import get_experiment_id, git_version\n",
    "from src.evaluation import get_inference_model, get_scores, get_embeddings"
   ]
  },
  {
   "cell_type": "code",
   "execution_count": 6,
   "metadata": {
    "colab": {},
    "colab_type": "code",
    "id": "bWHmmxkARB5-"
   },
   "outputs": [
    {
     "data": {
      "text/plain": [
       "device(type='cuda')"
      ]
     },
     "execution_count": 6,
     "metadata": {},
     "output_type": "execute_result"
    }
   ],
   "source": [
    "device = torch.device(\"cuda\" if torch.cuda.is_available() else \"cpu\")\n",
    "device"
   ]
  },
  {
   "cell_type": "code",
   "execution_count": 7,
   "metadata": {},
   "outputs": [
    {
     "name": "stdout",
     "output_type": "stream",
     "text": [
      "Git commit hash 4d35e604cd1f7bd294ec056541de0a032ea33317\n"
     ]
    }
   ],
   "source": [
    "print(\"Git commit hash\", git_version())"
   ]
  },
  {
   "cell_type": "markdown",
   "metadata": {},
   "source": [
    "# Prepare dataset and model base classes"
   ]
  },
  {
   "cell_type": "code",
   "execution_count": 8,
   "metadata": {
    "colab": {},
    "colab_type": "code",
    "id": "agMz5KBBRNL9"
   },
   "outputs": [],
   "source": [
    "train_transform, val_transform = get_transforms()"
   ]
  },
  {
   "cell_type": "code",
   "execution_count": 9,
   "metadata": {
    "colab": {
     "base_uri": "https://localhost:8080/",
     "height": 85,
     "referenced_widgets": [
      "d031a14ecfbf4d6a9cffdb17bded52de",
      "cca1cd88b76d42c888f5d1f570a80990",
      "5e3b37eaa63f49d8bcb0c2f3f3c4e604",
      "5264f7bc077449ceadd9ca326f53b710",
      "9373f77fae464ed696c8b972e6c78d32",
      "34793dfb95b1459fa07044fde497cea9",
      "8b86af366e774f068e91293d97481fb3",
      "450d5b08794e4047957dcadd47ed66bd"
     ]
    },
    "colab_type": "code",
    "id": "2WJbnQxUlaDi",
    "outputId": "ab49efe0-52d2-477b-a44e-08e970ad29df"
   },
   "outputs": [],
   "source": [
    "original_train, original_val = get_cub_2011()"
   ]
  },
  {
   "cell_type": "code",
   "execution_count": 10,
   "metadata": {},
   "outputs": [],
   "source": [
    "train_dataset, val_dataset = get_cub_2011_class_disjoint(train_transform, val_transform)"
   ]
  },
  {
   "cell_type": "code",
   "execution_count": 11,
   "metadata": {},
   "outputs": [],
   "source": [
    "trunk, trunk_output_size = get_trunk(device)\n",
    "\n",
    "embedder = get_embedder(trunk_output_size, params.embedder_layers, device)"
   ]
  },
  {
   "cell_type": "markdown",
   "metadata": {},
   "source": [
    "# Load model"
   ]
  },
  {
   "cell_type": "code",
   "execution_count": 12,
   "metadata": {},
   "outputs": [],
   "source": [
    "embedder_path, trunk_path = ('experiment_logs/10-07_11:59_contrastive_triplet/embedder_best20.pth',\n",
    " 'experiment_logs/10-07_11:59_contrastive_triplet/trunk_best20.pth')"
   ]
  },
  {
   "cell_type": "code",
   "execution_count": 13,
   "metadata": {},
   "outputs": [],
   "source": [
    "trunk, trunk_output_size = get_trunk(device)\n",
    "trunk.load_state_dict(torch.load(trunk_path))\n",
    "trunk = trunk.to(device)\n",
    "\n",
    "embedder = get_embedder(trunk_output_size, params.embedder_layers, device)\n",
    "embedder.load_state_dict(torch.load(embedder_path))\n",
    "embedder = embedder.to(device)"
   ]
  },
  {
   "cell_type": "code",
   "execution_count": 14,
   "metadata": {},
   "outputs": [],
   "source": [
    "gallery_dataset = original_train\n",
    "query_dataset = original_val\n",
    "gallery_dataset.transform = val_transform\n",
    "query_dataset.transform = val_transform\n",
    "\n",
    "gallery_labels = np.array([gallery_dataset.target(i) for i in range(len(gallery_dataset))])\n",
    "query_labels = np.array([query_dataset.target(i) for i in range(len(query_dataset))])"
   ]
  },
  {
   "cell_type": "code",
   "execution_count": 15,
   "metadata": {},
   "outputs": [],
   "source": [
    "inference_model = get_inference_model(trunk, embedder)"
   ]
  },
  {
   "cell_type": "code",
   "execution_count": 16,
   "metadata": {},
   "outputs": [],
   "source": [
    "# gallery_images = torch.stack([gallery_dataset[i][0] for i in trange(len(gallery_dataset))])\n",
    "# query_images =  torch.stack([query_dataset[i][0] for i in trange(len(query_dataset))])"
   ]
  },
  {
   "cell_type": "code",
   "execution_count": null,
   "metadata": {},
   "outputs": [
    {
     "name": "stderr",
     "output_type": "stream",
     "text": [
      " 61%|██████▏   | 3679/5994 [00:21<00:14, 154.72it/s]"
     ]
    }
   ],
   "source": [
    "gallery_embeddings = get_embeddings(inference_model, gallery_dataset)\n",
    "query_embeddings = get_embeddings(inference_model, query_dataset)"
   ]
  },
  {
   "cell_type": "code",
   "execution_count": null,
   "metadata": {},
   "outputs": [],
   "source": [
    "inference_model.indexer.train_index(gallery_embeddings.cpu().numpy())"
   ]
  },
  {
   "cell_type": "markdown",
   "metadata": {
    "colab_type": "text",
    "id": "HnFRDeiqpZgL"
   },
   "source": [
    "## Visual evaluation"
   ]
  },
  {
   "cell_type": "code",
   "execution_count": null,
   "metadata": {
    "colab": {},
    "colab_type": "code",
    "id": "gpDx0Ym7pV2t"
   },
   "outputs": [],
   "source": [
    "inv_normalize = get_inverse_transform()\n",
    "\n",
    "def print_decision(is_match):\n",
    "    if is_match:\n",
    "        print(\"Same class\")\n",
    "    else:\n",
    "        print(\"Different class\")\n",
    "\n",
    "def imshow(img, figsize=(8, 4)):\n",
    "    img = inv_normalize(img)\n",
    "    npimg = img.numpy()\n",
    "    plt.figure(figsize = figsize)\n",
    "    plt.imshow(np.transpose(npimg, (1, 2, 0)))\n",
    "    plt.show()\n",
    "\n",
    "dataset = val_dataset"
   ]
  },
  {
   "cell_type": "code",
   "execution_count": null,
   "metadata": {
    "colab": {},
    "colab_type": "code",
    "id": "sIKU0dH6pOc1"
   },
   "outputs": [],
   "source": [
    "class_a = dataset.targets[0]\n",
    "class_b = dataset.targets[100]\n",
    "\n",
    "class_a_idx = (dataset.targets == class_a).nonzero()[0]\n",
    "class_b_idx = (dataset.targets == class_b).nonzero()[0]"
   ]
  },
  {
   "cell_type": "code",
   "execution_count": null,
   "metadata": {
    "colab": {
     "base_uri": "https://localhost:8080/",
     "height": 53
    },
    "colab_type": "code",
    "id": "31KseB7ZUvHs",
    "outputId": "a23801bc-5fdd-47bb-881c-9e829f97c603"
   },
   "outputs": [],
   "source": [
    "class_a_idx[:10], class_b_idx[:10]"
   ]
  },
  {
   "cell_type": "code",
   "execution_count": null,
   "metadata": {
    "colab": {
     "base_uri": "https://localhost:8080/",
     "height": 286
    },
    "colab_type": "code",
    "id": "Esxe1OWjTED_",
    "outputId": "12cd299d-d9a7-4cd0-d748-30361789f745"
   },
   "outputs": [],
   "source": [
    "# compare two images of the same class\n",
    "(x, _), (y, _) = dataset[class_a_idx[0]], dataset[class_a_idx[1]]\n",
    "imshow(torchvision.utils.make_grid(torch.stack([x,y], dim=0)))\n",
    "decision = inference_model.is_match(x.unsqueeze(0).to(device), y.unsqueeze(0).to(device))\n",
    "print_decision(decision)"
   ]
  },
  {
   "cell_type": "code",
   "execution_count": null,
   "metadata": {
    "colab": {
     "base_uri": "https://localhost:8080/",
     "height": 286
    },
    "colab_type": "code",
    "id": "sC-VaNiBY46k",
    "outputId": "8e0eb5cb-7529-4297-9177-0799e200a3c2"
   },
   "outputs": [],
   "source": [
    "# compare two images of different classes\n",
    "(x, _), (y, _) = dataset[class_a_idx[0]], dataset[class_b_idx[1]]\n",
    "imshow(torchvision.utils.make_grid(torch.stack([x,y], dim=0)))\n",
    "decision = inference_model.is_match(x.unsqueeze(0).to(device), y.unsqueeze(0).to(device))\n",
    "print_decision(decision)"
   ]
  },
  {
   "cell_type": "code",
   "execution_count": null,
   "metadata": {
    "colab": {
     "base_uri": "https://localhost:8080/",
     "height": 286
    },
    "colab_type": "code",
    "id": "LCoNOr8qY7PJ",
    "outputId": "4d04de14-bddf-45f3-bdc1-86b72a083371"
   },
   "outputs": [],
   "source": [
    "# compare two random images\n",
    "idx1 = np.random.choice(range(len(dataset)))\n",
    "idx2 = np.random.choice(range(len(dataset)))\n",
    "(x, x_label), (y, y_label) = dataset[idx1], dataset[idx2]\n",
    "imshow(torchvision.utils.make_grid(torch.stack([x,y], dim=0)))\n",
    "decision = inference_model.is_match(x.unsqueeze(0).to(device), y.unsqueeze(0).to(device))\n",
    "print_decision(decision)\n",
    "print('Actually same' if x_label==y_label else \"Actually different\")"
   ]
  },
  {
   "cell_type": "markdown",
   "metadata": {
    "colab_type": "text",
    "id": "9EkOV3m5oA-_"
   },
   "source": [
    "## Retrieval"
   ]
  },
  {
   "cell_type": "code",
   "execution_count": null,
   "metadata": {},
   "outputs": [],
   "source": [
    "trunk = trunk.to('cpu')"
   ]
  },
  {
   "cell_type": "code",
   "execution_count": null,
   "metadata": {},
   "outputs": [],
   "source": [
    "embedder = embedder.to('cpu')"
   ]
  },
  {
   "cell_type": "code",
   "execution_count": null,
   "metadata": {},
   "outputs": [],
   "source": [
    "np.where(gallery_labels==136)"
   ]
  },
  {
   "cell_type": "code",
   "execution_count": null,
   "metadata": {
    "colab": {
     "base_uri": "https://localhost:8080/",
     "height": 448
    },
    "colab_type": "code",
    "id": "zDRhx-2laoRp",
    "outputId": "ea9ddbed-558e-401a-e8db-b64fe37c37f2"
   },
   "outputs": [],
   "source": [
    "k = 5\n",
    "query_idx = np.random.randint(0, len(gallery_dataset))\n",
    "#query_idx = 4226 # hardest class\n",
    "#query_idx = 4080 # class 136, very hard\n",
    "#query_idx = 2070 # easiest class\n",
    "query_img = gallery_dataset[query_idx][0]\n",
    "query_batch =  [query_img]\n",
    "# D, I = index.search(query_batch, k)\n",
    "# print(D)\n",
    "\n",
    "I, D = inference_model.get_nearest_neighbors(query_batch, k=k)\n",
    "print('distances', D)\n",
    "neighbors_idx = I[0]\n",
    "neighbors_imgs = [gallery_dataset[i][0] for i in neighbors_idx]\n",
    "neighbors_labels = gallery_labels[neighbors_idx]\n",
    "\n",
    "imshow(query_img)\n",
    "\n",
    "imshow(torchvision.utils.make_grid(torch.stack(neighbors_imgs, dim=0)))\n",
    "print('Query label', gallery_labels[query_idx])\n",
    "print('Neighbor labels', neighbors_labels)"
   ]
  },
  {
   "cell_type": "markdown",
   "metadata": {},
   "source": [
    "# Pairwise distances"
   ]
  },
  {
   "cell_type": "code",
   "execution_count": null,
   "metadata": {},
   "outputs": [],
   "source": [
    "def get_pairwise_distances(embeddings, labels, sample_size=1000):\n",
    "    same_label_distances = {}\n",
    "    diff_label_distances = {}\n",
    "\n",
    "    def get_label_vectors(label):\n",
    "        label_indices = np.array(range(len(labels)))[labels == label]\n",
    "        vectors = [embeddings[i].numpy() for i in label_indices]    \n",
    "        return vectors\n",
    "\n",
    "    for label in tqdm(set(gallery_labels)):\n",
    "        vectors = get_label_vectors(label)\n",
    "\n",
    "        distances = pdist(vectors, metric='cosine')\n",
    "        same_label_distances[label] = distances\n",
    "\n",
    "        diff_labels = list(set(labels).difference(set([label])))\n",
    "        other_label = np.random.choice(diff_labels)\n",
    "        other_vectors = get_label_vectors(other_label)\n",
    "\n",
    "        other_distances_matrix = cdist(vectors, other_vectors)\n",
    "        other_distances = []\n",
    "        # Get upper triangle of matrix\n",
    "        for i in range(len(other_distances_matrix)-1):\n",
    "            other_distances.append(other_distances_matrix[i][i+1:])\n",
    "        other_distances = np.concatenate(other_distances)\n",
    "\n",
    "        diff_label_distances[(label, other_label)] = other_distances\n",
    "        \n",
    "    random_indices = np.random.choice(range(len(labels)), sample_size)\n",
    "    random_distances = pdist(embeddings[random_indices].numpy(), metric='cosine')\n",
    "    \n",
    "    all_same_label_dists = np.concatenate([dists for l, dists in same_label_distances.items()])\n",
    "    all_diff_label_distances = np.concatenate([dists for l, dists in diff_label_distances.items()])\n",
    "    \n",
    "    return random_distances, all_same_label_dists, all_diff_label_distances, same_label_distances, diff_label_distances\n"
   ]
  },
  {
   "cell_type": "code",
   "execution_count": null,
   "metadata": {},
   "outputs": [],
   "source": [
    "random_distances, all_same_label_dists, all_diff_label_distances, same_label_distances, diff_label_distances = get_pairwise_distances(gallery_embeddings, gallery_labels)\n",
    "plt.figure(figsize=(15, 7))\n",
    "sns.distplot(all_same_label_dists, label='same label')\n",
    "sns.distplot(all_diff_label_distances, label='different label')\n",
    "sns.distplot(random_distances, label='random pairs')\n",
    "plt.xlabel('Cosine distance')\n",
    "plt.title(\"Gallery distances distribution \")\n",
    "plt.legend()\n",
    "plt.show()"
   ]
  },
  {
   "cell_type": "code",
   "execution_count": null,
   "metadata": {},
   "outputs": [],
   "source": [
    "random_distances, all_same_label_dists, all_diff_label_distances, same_label_distances, diff_label_distances = get_pairwise_distances(query_embeddings, query_labels)\n",
    "plt.figure(figsize=(15, 7))\n",
    "sns.distplot(all_same_label_dists, label='same label')\n",
    "sns.distplot(all_diff_label_distances, label='different label')\n",
    "sns.distplot(random_distances, label='random pairs')\n",
    "plt.xlabel('Cosine distance')\n",
    "plt.title(\"Query distances distribution \")\n",
    "plt.legend()\n",
    "plt.show()"
   ]
  },
  {
   "cell_type": "code",
   "execution_count": null,
   "metadata": {},
   "outputs": [],
   "source": [
    "means = []\n",
    "stds = []\n",
    "for label, distances in same_label_distances.items():\n",
    "    means.append(np.mean(distances))\n",
    "    stds.append(np.std(distances))\n",
    "    \n",
    "sort_order = np.argsort(means)\n",
    "\n",
    "labels = [label for label in same_label_distances]\n",
    "sorted_labels = np.array(labels)[sort_order]\n",
    "\n",
    "def autolabel(rects, text):\n",
    "    \"\"\"\n",
    "    Attach a text label above each bar displaying its height\n",
    "    \"\"\"\n",
    "    for rect in rects:\n",
    "        height = rect.get_height()\n",
    "        ax.text(rect.get_x() + rect.get_width()/2., 1.05*height,\n",
    "                text,\n",
    "                ha='center', va='bottom')\n",
    "        \n",
    "fig, ax = plt.subplots(figsize=(25, 10))\n",
    "width = 0.5\n",
    "for i, label in enumerate(sorted_labels):\n",
    "    distances = same_label_distances[label]\n",
    "    rects = ax.bar(i, np.mean(distances), width, yerr=np.std(distances), align='center', alpha=0.5, ecolor='grey', capsize=5)\n",
    "    autolabel(rects, f'{label}')\n",
    "    \n",
    "    ax.yaxis.grid(True)\n",
    "\n",
    "\n",
    "plt.ylabel(\"Mean/std cosine dist within label\")\n",
    "plt.xlabel('Ranking by mean cosine dist within label, least to greatest')\n",
    "# Save the figure and show\n",
    "plt.title(\"Labels sorted by mean cosine. Some labels have bigger inter-class differences and variation\")\n",
    "plt.tight_layout()\n",
    "plt.show()"
   ]
  },
  {
   "cell_type": "markdown",
   "metadata": {},
   "source": [
    "Large inter-class distances == worse predictions"
   ]
  },
  {
   "cell_type": "markdown",
   "metadata": {},
   "source": [
    "# Umap"
   ]
  },
  {
   "cell_type": "code",
   "execution_count": null,
   "metadata": {},
   "outputs": [],
   "source": [
    "plotting_transform = transforms.Compose([\n",
    "    get_inverse_transform(),\n",
    "    transforms.ToPILImage(),\n",
    "    transforms.Resize(30),\n",
    "])\n",
    "\n",
    "\n",
    "def plot_umap(dataset, embeddings, labels):\n",
    "    reducer = umap.UMAP()\n",
    "    reduced = reducer.fit_transform(embeddings)\n",
    "    \n",
    "    str_labels = np.array(list(map(lambda x: 'l'+x, labels.astype(str))))\n",
    "    \n",
    "    reduced_x = reduced[:, 0]\n",
    "    reduced_y = reduced[:, 1]\n",
    "    \n",
    "    #plt.scatter(x=reduced_x[:1], y=reduced_y[:1])\n",
    "    \n",
    "    _, uniq_label_idx = np.unique(labels, return_index=True)\n",
    "    for ix, i in enumerate(uniq_label_idx):\n",
    "        img, label = dataset[i]\n",
    "        img = plotting_transform(img)\n",
    "        npimg = np.array(img)\n",
    "        \n",
    "        if ix+1 < len(uniq_label_idx):\n",
    "            x, y = reduced_x[i:uniq_label_idx[ix+1]].mean(), reduced_y[i:uniq_label_idx[ix+1]].mean()\n",
    "        else:\n",
    "            x, y = reduced_x[i:].mean(), reduced_y[i:].mean()\n",
    "        \n",
    "        \n",
    "        ab = AnnotationBbox(OffsetImage(npimg), (x, y), frameon=False)\n",
    "        ax = plt.gca()\n",
    "        ax.add_artist(ab)\n",
    "        \n",
    "    sns.scatterplot(x=reduced_x, y=reduced_y, hue=str_labels, legend=False, alpha=0.3)\n",
    "    \n",
    "    "
   ]
  },
  {
   "cell_type": "code",
   "execution_count": null,
   "metadata": {},
   "outputs": [],
   "source": [
    "plt.figure(figsize=(60, 30))    \n",
    "plot_umap(gallery_dataset, gallery_embeddings, gallery_labels)\n",
    "plt.title(\"Gallery umap\")\n",
    "plt.tight_layout()\n",
    "plt.show()"
   ]
  },
  {
   "cell_type": "code",
   "execution_count": null,
   "metadata": {},
   "outputs": [],
   "source": [
    "plt.figure(figsize=(60, 30))    \n",
    "plot_umap(query_dataset, query_embeddings, query_labels)\n",
    "plt.title(\"Query umap\")\n",
    "plt.show()"
   ]
  },
  {
   "cell_type": "code",
   "execution_count": null,
   "metadata": {},
   "outputs": [],
   "source": []
  },
  {
   "cell_type": "code",
   "execution_count": null,
   "metadata": {},
   "outputs": [],
   "source": []
  }
 ],
 "metadata": {
  "kernelspec": {
   "display_name": "Python 3",
   "language": "python",
   "name": "python3"
  },
  "language_info": {
   "codemirror_mode": {
    "name": "ipython",
    "version": 3
   },
   "file_extension": ".py",
   "mimetype": "text/x-python",
   "name": "python",
   "nbconvert_exporter": "python",
   "pygments_lexer": "ipython3",
   "version": "3.8.2"
  }
 },
 "nbformat": 4,
 "nbformat_minor": 4
}
